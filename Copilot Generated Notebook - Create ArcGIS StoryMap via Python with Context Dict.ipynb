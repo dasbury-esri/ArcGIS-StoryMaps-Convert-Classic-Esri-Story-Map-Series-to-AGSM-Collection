{
 "cells": [
  {
   "cell_type": "markdown",
   "id": "424ee0c5",
   "metadata": {},
   "source": [
    "# Refactor Notebook: Use Context Dictionary for State Management\n",
    "\n",
    "This notebook has been refactored to use a single `context` dictionary for all state management. Each step stores and retrieves state from `context`, ensuring consistent and explicit handling of variables throughout the workflow."
   ]
  },
  {
   "cell_type": "markdown",
   "id": "1de86079",
   "metadata": {},
   "source": [
    "## 1. Refactor Setup and Authentication to Store State in Context\n",
    "\n",
    "The authentication logic below ensures that the GIS connection and all related state are stored in the `context` dictionary (e.g., `context['gis']`). All subsequent cells will reference `context` for state."
   ]
  },
  {
   "cell_type": "code",
   "execution_count": 1,
   "id": "7213df3e",
   "metadata": {},
   "outputs": [
    {
     "data": {
      "application/vnd.jupyter.widget-view+json": {
       "model_id": "6c06b4fcc1fc42d5baec776d39608298",
       "version_major": 2,
       "version_minor": 0
      },
      "text/plain": [
       "VBox(children=(HBox(children=(Label(value='Are you running this within ArcGIS Online?', layout=Layout(height='…"
      ]
     },
     "metadata": {},
     "output_type": "display_data"
    }
   ],
   "source": [
    "import ipywidgets as widgets\n",
    "from arcgis.gis import GIS\n",
    "import sys\n",
    "import warnings\n",
    "from bs4 import MarkupResemblesLocatorWarning\n",
    "\n",
    "warnings.filterwarnings(\"ignore\", category=MarkupResemblesLocatorWarning)\n",
    "\n",
    "# Initialize context dictionary for all state\n",
    "context = {\n",
    "    \"gis\": None,\n",
    "    \"classic_item\": None,\n",
    "    \"classic_item_data\": None,\n",
    "    \"classic_story_title\": None,\n",
    "    \"classic_story_subtitle\": None,\n",
    "    \"classic_story_type\": None,\n",
    "    \"classic_story_panel_position\": None,\n",
    "    \"classic_story_theme\": None,\n",
    "    \"new_theme\": None,\n",
    "    \"entries\": [],\n",
    "    \"entry_titles\": [],\n",
    "    \"main_stage_contents\": [],\n",
    "    \"invalid_webmaps\": [],\n",
    "    \"published_storymap_items\": [],\n",
    "    \"thumbnail_paths\": [],\n",
    "    \"collection_title\": None,\n",
    "    \"collection_url\": None,\n",
    "    \"collection_id\": None,\n",
    "    \"folder_name\": None,\n",
    "}\n",
    "\n",
    "def initialize_ui(widget_type, description=\"\", width=300, height=40, value=None, layout=None, options=None):\n",
    "    import ipywidgets as widgets\n",
    "    if not layout:\n",
    "        layout = widgets.Layout(width=f\"{width}px\", height=f\"{height}px\")\n",
    "    if widget_type == \"button\":\n",
    "        return widgets.Button(description=description, layout=layout)\n",
    "    elif widget_type == \"checkbox\":\n",
    "        return widgets.Checkbox(value=value if value is not None else False, description=description, layout=layout)\n",
    "    elif widget_type == \"text\":\n",
    "        return widgets.Text(value=value if value is not None else \"\", description=description, layout=layout)\n",
    "    elif widget_type == \"label\":\n",
    "        return widgets.Label(value=value if value is not None else \"\", layout=layout)\n",
    "    elif widget_type == \"output\":\n",
    "        return widgets.Output()\n",
    "    elif widget_type == \"hbox\":\n",
    "        return widgets.HBox(options if options else [])\n",
    "    else:\n",
    "        raise ValueError(\"Unsupported widget_type\")\n",
    "\n",
    "output1 = initialize_ui(\"output\")\n",
    "input1 = initialize_ui(\"checkbox\", value=True, description=\"Yes/No\")\n",
    "txt1 = initialize_ui(\"label\", value=\"Are you running this within ArcGIS Online?\")\n",
    "btn1 = initialize_ui(\"button\", description=\"Setup Notebook\", width=\"200px\")\n",
    "HBox1 = initialize_ui(\"hbox\", options=[txt1, input1])\n",
    "\n",
    "def setup_notebook(button):\n",
    "    with output1:\n",
    "        output1.clear_output()\n",
    "        print(\"Setting up the notebook environment...\")\n",
    "        print(f\"\\tPython version: {sys.version}\")\n",
    "        try:\n",
    "            import arcgis\n",
    "            print(f\"\\tArcGIS for Python API version: {arcgis.__version__}\")\n",
    "        except ImportError:\n",
    "            print(\"ArcGIS for Python API not installed.\")\n",
    "        agoNotebook = input1.value\n",
    "        if agoNotebook == False:\n",
    "            username_widget = widgets.Text(\n",
    "                value='',\n",
    "                placeholder='Enter your ArcGIS Online username',\n",
    "                layout=widgets.Layout(width='400px')\n",
    "            )\n",
    "            submit_button = widgets.Button(description=\"Login\")\n",
    "            auth_Hbox = widgets.HBox([username_widget, submit_button])\n",
    "            output_auth = widgets.Output()\n",
    "            display(auth_Hbox, output_auth)\n",
    "\n",
    "            def handle_login(button):\n",
    "                with output_auth:\n",
    "                    output_auth.clear_output()\n",
    "                    print(\"Logging in...\")\n",
    "                    try:\n",
    "                        import keyring\n",
    "                        service_name = \"system\"\n",
    "                        username_for_keyring = username_widget.value\n",
    "                        credential = keyring.get_credential(service_name, username_for_keyring)\n",
    "                        if credential is None:\n",
    "                            print(f\"'{username_for_keyring}' is not in the local system's credential store. Try another username.\")\n",
    "                        else:\n",
    "                            password_from_keyring = keyring.get_password(\"system\", username_for_keyring)\n",
    "                            portal_url = 'https://www.arcgis.com'\n",
    "                            context['gis'] = GIS(portal_url, username=username_for_keyring, password=password_from_keyring)\n",
    "                            print(f\"\\tSuccessfully logged in as: {context['gis'].properties.user.username}\")\n",
    "                            print(\"\\nStep #1 complete. Click the Markdown text below and then click the 'Play' button twice to proceed.\")\n",
    "                    except ImportError:\n",
    "                        print(\"The 'keyring' module is not installed. Please install it using 'pip install keyring'.\")\n",
    "            submit_button.on_click(handle_login)\n",
    "        else:\n",
    "            context[\"gis\"] = GIS(\"home\")\n",
    "            print(f\"\\tSuccessfully logged in as: {context['gis'].properties.user.username}\")\n",
    "            print(\"\\nStep #1 complete. Click the Markdown text below and then click the 'Play' button twice to proceed.\")\n",
    "\n",
    "display(widgets.VBox([HBox1, btn1, output1]))\n",
    "btn1.on_click(setup_notebook)"
   ]
  },
  {
   "cell_type": "markdown",
   "id": "0cf66d24",
   "metadata": {},
   "source": [
    "## 2. Update Data Fetching to Use Context for Item and Data\n",
    "\n",
    "The data fetching logic below stores the classic StoryMap item and its data in `context['classic_item']` and `context['classic_item_data']`. All downstream logic references these context keys."
   ]
  },
  {
   "cell_type": "code",
   "execution_count": null,
   "id": "f67ad669",
   "metadata": {},
   "outputs": [
    {
     "data": {
      "application/vnd.jupyter.widget-view+json": {
       "model_id": "c037e85137e643db9cb00dda98b8504d",
       "version_major": 2,
       "version_minor": 0
      },
      "text/plain": [
       "VBox(children=(HBox(children=(Label(value='Paste 32-digit Classic Esri Story Map id -->', layout=Layout(height…"
      ]
     },
     "metadata": {},
     "output_type": "display_data"
    }
   ],
   "source": [
    "from arcgis.gis import Item\n",
    "\n",
    "output2 = initialize_ui(\"output\")\n",
    "txt2 = initialize_ui(\"label\", value=\"Paste 32-digit Classic Esri Story Map id -->\")\n",
    "input2 = initialize_ui(\"text\", description=\"Item ID:\", width=400)\n",
    "HBox2 = initialize_ui(\"hbox\", options=[txt2, input2])\n",
    "btn2 = initialize_ui(\"button\", description=\"Fetch Story Data\", width=\"200px\")\n",
    "\n",
    "def safe_get_json(item):\n",
    "    try:\n",
    "        data = item.get_data()\n",
    "        if isinstance(data, dict):\n",
    "            return data\n",
    "        elif isinstance(data, str):\n",
    "            import json\n",
    "            return json.loads(data)\n",
    "        else:\n",
    "            return {}\n",
    "    except Exception:\n",
    "        return {}\n",
    "\n",
    "def fetch_classic_storymap_data(classic_storymap_id, context):\n",
    "    gis = context[\"gis\"]\n",
    "    classic_item = Item(gis=gis, itemid=classic_storymap_id)\n",
    "    classic_item_data = safe_get_json(classic_item)\n",
    "    if classic_item_data == {}:\n",
    "        raise ValueError(\"ERROR: StoryMap to be converted must be hosted on ArcGIS Online.\")\n",
    "    context[\"classic_item\"] = classic_item\n",
    "    context[\"classic_item_data\"] = classic_item_data\n",
    "\n",
    "def fetch_story_data(button):\n",
    "    with output2:\n",
    "        output2.clear_output()\n",
    "        print(\"Fetching data...\")\n",
    "        classic_storymap_id = input2.value\n",
    "        try:\n",
    "            fetch_classic_storymap_data(classic_storymap_id, context)\n",
    "            if context[\"classic_item\"] is not None and context[\"classic_item_data\"] is not None:\n",
    "                print(f\"Fetched classic StoryMap: '{context['classic_item'].title}' (ID: {context['classic_item'].itemid})\")\n",
    "            else:\n",
    "                print(\"Could not fetch classic StoryMap data. Check the item ID and try again.\")\n",
    "        except Exception as e:\n",
    "            print(f\"Error: {e}\")\n",
    "        print(\"\\nStep #2 complete. Click the Markdown text below and then click the 'Play' button twice to proceed.\")\n",
    "\n",
    "display(widgets.VBox([HBox2, btn2, output2]))\n",
    "btn2.on_click(fetch_story_data)"
   ]
  },
  {
   "cell_type": "markdown",
   "id": "428001f1",
   "metadata": {},
   "source": [
    "## 3. Modify Settings and Theme Extraction to Store in Context\n",
    "\n",
    "Settings, theme, and entries are now extracted and stored in the context dictionary (e.g., `context['classic_story_title']`, `context['entries']`, etc.)."
   ]
  },
  {
   "cell_type": "code",
   "execution_count": null,
   "id": "1a6f0789",
   "metadata": {},
   "outputs": [
    {
     "data": {
      "application/vnd.jupyter.widget-view+json": {
       "model_id": "252b5ccd7af549d8b40e2fbf18e0bba3",
       "version_major": 2,
       "version_minor": 0
      },
      "text/plain": [
       "Button(description='Extract Settings', style=ButtonStyle())"
      ]
     },
     "metadata": {},
     "output_type": "display_data"
    },
    {
     "data": {
      "application/vnd.jupyter.widget-view+json": {
       "model_id": "acd6ec2edc6946c0855d2b0a5740e220",
       "version_major": 2,
       "version_minor": 0
      },
      "text/plain": [
       "Output()"
      ]
     },
     "metadata": {},
     "output_type": "display_data"
    }
   ],
   "source": [
    "output3 = widgets.Output()\n",
    "user_button3 = widgets.Button(description=\"Extract Settings\")\n",
    "\n",
    "def extract_story_settings(classic_item_data, context):\n",
    "    values = classic_item_data.get(\"values\", {})\n",
    "    context[\"classic_story_title\"] = values.get(\"title\", \"Untitled Classic StoryMap Series\").strip()\n",
    "    context[\"classic_story_subtitle\"] = values.get(\"subtitle\", \"\")\n",
    "    settings = values.get(\"settings\", {})\n",
    "    context[\"classic_story_type\"] = settings.get(\"layout\", {}).get(\"id\", \"Unknown\")\n",
    "    context[\"classic_story_panel_position\"] = settings.get(\"layoutOptions\", {}).get(\"panel\", {}).get(\"position\", \"Unknown\")\n",
    "    context[\"classic_story_theme\"] = settings.get(\"theme\", {})\n",
    "    context[\"entries\"] = values.get(\"story\", {}).get(\"entries\", [])\n",
    "    return context\n",
    "\n",
    "def determine_theme(theme):\n",
    "    from arcgis.apps.storymap import Themes\n",
    "    classic_name = theme.get(\"colors\", {}).get(\"name\", \"No classic theme name\")\n",
    "    group = theme.get(\"colors\", {}).get(\"group\", \"light\")\n",
    "    if group == \"dark\":\n",
    "        return classic_name, Themes.OBSIDIAN\n",
    "    else:\n",
    "        return classic_name, Themes.SUMMIT\n",
    "\n",
    "def extract_and_display_settings(button):\n",
    "    with output3:\n",
    "        output3.clear_output()\n",
    "        if context[\"classic_item_data\"] is None:\n",
    "            print(\"No classic StoryMap data found. Fetch the data first.\")\n",
    "            return\n",
    "        extract_story_settings(context[\"classic_item_data\"], context)\n",
    "        entries = context[\"entries\"]\n",
    "        print(\"\\nStory settings:\")\n",
    "        print(f\"{'panel position:':>15} {context['classic_story_panel_position']}\")\n",
    "        print(f\"{'series title:':>15} '{context['classic_story_title']}'\")\n",
    "        if context[\"classic_story_subtitle\"]:\n",
    "            print(f\"{'subtitle:':>15} {context['classic_story_subtitle']}\")\n",
    "        print(f\"{'series type:':>15} {context['classic_story_type']}\")\n",
    "        print(f\"\\nFound {len(entries)} entries in the Classic Map Series.\")\n",
    "        for i, e in enumerate(entries):\n",
    "            print(f\"{i+1}. {e['title']}\")\n",
    "        classic_name, new_theme = determine_theme(context[\"classic_story_theme\"])\n",
    "        context[\"new_theme\"] = new_theme\n",
    "        print(f\"\\nClassic theme name: {classic_name}\")\n",
    "        print(f\"{'New theme set to:':>19} {new_theme.name}\")\n",
    "        print(\"\\nStep #3 complete. Click the Markdown text below and then click the 'Play' button twice to proceed.\")\n",
    "\n",
    "display(user_button3)\n",
    "display(output3)\n",
    "user_button3.on_click(extract_and_display_settings)"
   ]
  },
  {
   "cell_type": "markdown",
   "id": "be9cc583",
   "metadata": {},
   "source": [
    "## 4. Process Entries and Store Results in Context\n",
    "\n",
    "Entry processing now stores entry titles, main stage contents, and invalid webmaps in context (e.g., `context['entry_titles']`, `context['main_stage_contents']`, `context['invalid_webmaps']`)."
   ]
  },
  {
   "cell_type": "code",
   "execution_count": null,
   "id": "409790b4",
   "metadata": {},
   "outputs": [
    {
     "data": {
      "application/vnd.jupyter.widget-view+json": {
       "model_id": "f65122f2bf484bc082846215265ed830",
       "version_major": 2,
       "version_minor": 0
      },
      "text/plain": [
       "Button(description='Process Entries', style=ButtonStyle())"
      ]
     },
     "metadata": {},
     "output_type": "display_data"
    },
    {
     "data": {
      "application/vnd.jupyter.widget-view+json": {
       "model_id": "c359adfbaa0848658f0455584357cffa",
       "version_major": 2,
       "version_minor": 0
      },
      "text/plain": [
       "Output()"
      ]
     },
     "metadata": {},
     "output_type": "display_data"
    }
   ],
   "source": [
    "output4 = widgets.Output()\n",
    "input_param4 = widgets.Button(description=\"Process Entries\")\n",
    "\n",
    "def process_entry(entry, entry_idx, entries, story_settings, gis):\n",
    "    from arcgis.apps.storymap import Map, Embed, Image\n",
    "    entry_title = entry.get(\"title\")\n",
    "    media_info = entry.get(\"media\", {})\n",
    "    media_type = media_info.get(\"type\")\n",
    "    main_stage_content = None\n",
    "    invalid_webmap = False\n",
    "    if media_type == \"webmap\":\n",
    "        webmap_id = media_info.get('webmap', {}).get('id')\n",
    "        if webmap_id and not invalid_webmap:\n",
    "            try:\n",
    "                main_stage_content = Map(webmap_id)\n",
    "            except Exception as e:\n",
    "                print(f\"Error creating Map object for {entry_title} ({webmap_id}): {e}\")\n",
    "                invalid_webmap = True\n",
    "    elif media_type == \"webpage\":\n",
    "        webpage_url = media_info.get(\"webpage\", {}).get(\"url\")\n",
    "        if webpage_url:\n",
    "            main_stage_content = Embed(webpage_url)\n",
    "    elif media_type == \"image\":\n",
    "        image_url = media_info.get(\"image\", {}).get(\"url\")\n",
    "        if image_url:\n",
    "            main_stage_content = Image(image_url)\n",
    "    return entry_title, main_stage_content, invalid_webmap\n",
    "\n",
    "def process_all_entries(entries, context):\n",
    "    gis = context[\"gis\"]\n",
    "    story_settings = context[\"classic_item_data\"].get(\"values\", {}).get(\"settings\", {})\n",
    "    context[\"entry_titles\"] = [None] * len(entries)\n",
    "    context[\"main_stage_contents\"] = [None] * len(entries)\n",
    "    context[\"invalid_webmaps\"] = [False] * len(entries)\n",
    "    for i, entry in enumerate(entries):\n",
    "        title, content, invalid = process_entry(entry, i, entries, story_settings, gis)\n",
    "        context[\"entry_titles\"][i] = title\n",
    "        context[\"main_stage_contents\"][i] = content\n",
    "        context[\"invalid_webmaps\"][i] = invalid\n",
    "        if invalid:\n",
    "            print(f\"WARNING: There is a problem with the webmap in entry [{i+1} of {len(entries)}]: {title}. Please fix before publishing the new StoryMap.\")\n",
    "        print(f\"[{i+1} of {len(entries)}]: {title:35} Media type: {type(content).__name__}\")\n",
    "\n",
    "def process_entries(button):\n",
    "    with output4:\n",
    "        output4.clear_output()\n",
    "        entries = context[\"entries\"]\n",
    "        print(f\"Processing {len(entries)} entries...\")\n",
    "        process_all_entries(entries, context)\n",
    "        print(\"\\nStep #4 complete. Click the Markdown text below and then click the 'Play' button twice to proceed.\")\n",
    "\n",
    "display(input_param4)\n",
    "display(output4)\n",
    "input_param4.on_click(process_entries)"
   ]
  },
  {
   "cell_type": "markdown",
   "id": "68591c66",
   "metadata": {},
   "source": [
    "## 5. Create StoryMaps and Save Items/Thumbnails in Context\n",
    "\n",
    "StoryMap creation logic now stores published StoryMap items and thumbnail paths in `context['published_storymap_items']` and `context['thumbnail_paths']`."
   ]
  },
  {
   "cell_type": "code",
   "execution_count": 5,
   "id": "f4c6192d",
   "metadata": {},
   "outputs": [
    {
     "data": {
      "application/vnd.jupyter.widget-view+json": {
       "model_id": "035e2f1b119844cda168ba5a458fbeef",
       "version_major": 2,
       "version_minor": 0
      },
      "text/plain": [
       "Button(description='Create ArcGIS StoryMaps from each entry', layout=Layout(height='40px', width='300px'), sty…"
      ]
     },
     "metadata": {},
     "output_type": "display_data"
    },
    {
     "data": {
      "application/vnd.jupyter.widget-view+json": {
       "model_id": "3c1f466842af4ba184d6d7fb0a8228c9",
       "version_major": 2,
       "version_minor": 0
      },
      "text/plain": [
       "Output()"
      ]
     },
     "metadata": {},
     "output_type": "display_data"
    }
   ],
   "source": [
    "output5 = widgets.Output()\n",
    "user_button5 = widgets.Button(description=\"Create ArcGIS StoryMaps from each entry\", layout=widgets.Layout(width='300px', height='40px'))\n",
    "\n",
    "def build_and_save_storymap(entry, entry_index, entry_title, main_stage_content, new_theme, default_thumbnail_path, gis):\n",
    "    from arcgis.apps.storymap import StoryMap, Sidecar, Image\n",
    "    import tempfile, os\n",
    "    story = StoryMap()\n",
    "    story.theme(new_theme)\n",
    "    sidecar = Sidecar(style=\"docked-panel\")\n",
    "    story.add(sidecar)\n",
    "    description_html = entry.get(\"description\", \"\")\n",
    "    sidecar.add_slide(contents=[description_html], media=main_stage_content)\n",
    "    cover_properties = story.content_list[0]\n",
    "    cover_properties.title = entry_title\n",
    "    cover_properties.byline = \"\"\n",
    "    cover_properties.date = \"none\"\n",
    "    cover_properties.media = Image(default_thumbnail_path)\n",
    "    for k, v in story.properties['nodes'].items():\n",
    "        if v['type'] == 'storycover':\n",
    "            v['config'] = {'isHidden': 'true'}\n",
    "    story.save(title=entry_title, tags=[\"Classic Story Map to AGSM Conversion\", \"Story Map Series\"], publish=True)\n",
    "    published_story_item = getattr(story, '_item', None)\n",
    "    thumbnail_path = default_thumbnail_path\n",
    "    if published_story_item:\n",
    "        published_story_item.update(thumbnail=thumbnail_path)\n",
    "        published_story_item_url = \"https://storymaps.arcgis.com/stories/\" + published_story_item.id\n",
    "        print(f\"{published_story_item_url} '{entry_title}' is staged for publishing. Click the link to complete.\")\n",
    "        return story, published_story_item, thumbnail_path\n",
    "    else:\n",
    "        print(\"Could not find item for story:\", story.title)\n",
    "        return story, None, thumbnail_path\n",
    "\n",
    "def create_and_save_storymaps(entries, context):\n",
    "    gis = context[\"gis\"]\n",
    "    new_theme = context[\"new_theme\"]\n",
    "    default_thumbnail_path = \"https://cdn-a.arcgis.com/cdn/1BE082D/js/arcgis-app-components/arcgis-app/assets/arcgis-item-thumbnail/storymap.png\"\n",
    "    context[\"published_storymap_items\"] = [None] * len(entries)\n",
    "    context[\"thumbnail_paths\"] = [None] * len(entries)\n",
    "    print(\"\\n***NOTICE*** You MUST click each link below to open the story in a browser tab. ***NOTICE***\\n\")\n",
    "    for i, entry in enumerate(entries):\n",
    "        print(f\"[{i+1} of {len(entries)}]... \", end=\"\")\n",
    "        story, published_story_item, thumbnail_path = build_and_save_storymap(\n",
    "            entry, i, entry[\"title\"], context[\"main_stage_contents\"][i], new_theme, default_thumbnail_path, gis\n",
    "        )\n",
    "        if published_story_item:\n",
    "            context[\"published_storymap_items\"][i] = published_story_item\n",
    "        context[\"thumbnail_paths\"][i] = thumbnail_path\n",
    "\n",
    "def create_storymaps(button):\n",
    "    with output5:\n",
    "        output5.clear_output()\n",
    "        entries = context[\"entries\"]\n",
    "        print(f\"Creating and saving {len(entries)} StoryMaps...\")\n",
    "        create_and_save_storymaps(entries, context)\n",
    "        print(\"\\nStep #5 complete. Ensure you have opened each story and checked for errors before continuing. \\nOnce all stories have been successfully published, Click the Markdown text below and then click the 'Play' button twice to proceed.\")\n",
    "\n",
    "display(user_button5)\n",
    "display(output5)\n",
    "user_button5.on_click(create_storymaps)"
   ]
  },
  {
   "cell_type": "markdown",
   "id": "83d042c1",
   "metadata": {},
   "source": [
    "## 6. Build Collection and Store Metadata in Context\n",
    "\n",
    "Collection creation now stores collection title, URL, and ID in context (e.g., `context['collection_title']`, `context['collection_url']`, `context['collection_id']`)."
   ]
  },
  {
   "cell_type": "code",
   "execution_count": null,
   "id": "e2bff85e",
   "metadata": {},
   "outputs": [],
   "source": [
    "output6 = widgets.Output()\n",
    "user_button6 = widgets.Button(description=\"Create Collection\", layout=widgets.Layout(width='150px', height='40px'))\n",
    "\n",
    "def build_collection(context):\n",
    "    from arcgis.apps.storymap import Collection, Image\n",
    "    classic_item = context[\"classic_item\"]\n",
    "    published_storymap_items = context[\"published_storymap_items\"]\n",
    "    thumbnail_paths = context[\"thumbnail_paths\"]\n",
    "    classic_story_type = context[\"classic_story_type\"]\n",
    "    new_theme = context[\"new_theme\"]\n",
    "    collection = Collection()\n",
    "    collection_title = classic_item.title\n",
    "    for i, story in enumerate(published_storymap_items):\n",
    "        if story is None:\n",
    "            print(f\"Story {i+1} is None. Skipping.\")\n",
    "            continue\n",
    "        try:\n",
    "            collection.add(item=story, title=story.title, thumbnail=thumbnail_paths[i])\n",
    "        except Exception as e:\n",
    "            print(f\"Error adding story '{story.title}' to Collection: {e}\")\n",
    "    collection.content[0].title = collection_title\n",
    "    collection.content[0].byline = \"\"\n",
    "    collection.theme(new_theme)\n",
    "    if classic_story_type == \"accordion\":\n",
    "        collection.content[1].type = \"tab\"\n",
    "    else:\n",
    "        collection.content[1].type = classic_story_type\n",
    "    collection.content[1].media = Image(thumbnail_paths[0])\n",
    "    published_collection = collection.save(title=collection_title, tags=[\"Classic Story Map to AGSM Conversion\", \"Story Map Series\"], publish=True)\n",
    "    context[\"collection_title\"] = collection_title\n",
    "    context[\"collection_url\"] = collection._url\n",
    "    context[\"collection_id\"] = published_collection.id\n",
    "\n",
    "def create_collection(button):\n",
    "    with output6:\n",
    "        output6.clear_output()\n",
    "        print(f\"Creating Collection '{context['classic_story_title']}'...\")\n",
    "        build_collection(context)\n",
    "        print(f\"Collection staged: '{context['collection_title']}' {context['collection_url']} \\nClick the link to open the Collection builder. Make any desired edits and then complete the publication of your converted StoryMap.\")\n",
    "        print(\"\\nStep #6 complete. Once you've published the Collection, click the Markdown text below and then click the 'Play' button twice to proceed.\")\n",
    "\n",
    "display(user_button6)\n",
    "display(output6)\n",
    "user_button6.on_click(create_collection)"
   ]
  },
  {
   "cell_type": "markdown",
   "id": "1c939964",
   "metadata": {},
   "source": [
    "## 7. Folder Creation and Management Using Context\n",
    "\n",
    "Folder creation/check logic now stores folder name and related state in `context['folder_name']`."
   ]
  },
  {
   "cell_type": "code",
   "execution_count": null,
   "id": "0a9adce0",
   "metadata": {},
   "outputs": [],
   "source": [
    "output7 = widgets.Output()\n",
    "input_param7 = widgets.Text(value=\"\", description=\"\", layout=widgets.Layout(width='800px'))\n",
    "user_button7 = widgets.Button(description=\"Check for folder\")\n",
    "user_button7_1 = widgets.Button(description=\"Create folder\")\n",
    "\n",
    "def check_folder(button):\n",
    "    with output7:\n",
    "        output7.clear_output()\n",
    "        if not context[\"classic_story_title\"]:\n",
    "            print(\"No classic StoryMap title found. Extract the story settings first.\")\n",
    "            return\n",
    "        folder_name = \"Collection-\" + context[\"classic_story_title\"] if context[\"classic_story_title\"] else \"Collection-Conversion\"\n",
    "        input_param7.value = folder_name\n",
    "        context[\"folder_name\"] = folder_name\n",
    "        user_line7 = widgets.HBox([widgets.Label(value=\"Edit the folder name if desired -->\"), input_param7])\n",
    "        user = context[\"gis\"].users.me\n",
    "        existing_folders = context[\"gis\"].content.folders.list(user.username)\n",
    "        folder_names = [f.name for f in existing_folders]\n",
    "        if folder_name in folder_names:\n",
    "            print(f\"Folder '{folder_name}' already exists. Saving results there.\")\n",
    "            print(\"\\nStep #7 complete. Click the Markdown text below and then click the 'Play' button twice to proceed.\")\n",
    "        else:\n",
    "            display(user_line7)\n",
    "            display(user_button7_1)\n",
    "\n",
    "def create_folder(button):\n",
    "    with output7:\n",
    "        output7.clear_output()\n",
    "        folder_name = input_param7.value.strip() if input_param7.value.strip() else context[\"folder_name\"]\n",
    "        context[\"folder_name\"] = folder_name\n",
    "        try:\n",
    "            context[\"gis\"].content.folders.create(folder=folder_name, owner=context[\"gis\"].users.me.username)\n",
    "            print(f\"Created folder '{folder_name}' to save entries and Collection.\")\n",
    "        except Exception as e:\n",
    "            print(f\"Error creating folder '{folder_name}': {e}\")\n",
    "        print(\"\\nStep #7 complete. Click the Markdown text below and then click the 'Play' button twice to proceed.\")\n",
    "\n",
    "user_button7.on_click(check_folder)\n",
    "user_button7_1.on_click(create_folder)\n",
    "display(user_button7)\n",
    "display(output7)"
   ]
  },
  {
   "cell_type": "markdown",
   "id": "235385b4",
   "metadata": {},
   "source": [
    "## 8. Move Items to Folder Using Context\n",
    "\n",
    "Item moving logic now uses context for accessing GIS, items, folder name, and collection ID."
   ]
  },
  {
   "cell_type": "code",
   "execution_count": null,
   "id": "205ad7aa",
   "metadata": {},
   "outputs": [],
   "source": [
    "output8 = widgets.Output()\n",
    "user_button8 = widgets.Button(description=\"Move all items to folder\", layout=widgets.Layout(width='200px', height='40px'))\n",
    "\n",
    "def move_item_to_folder(gis, item, folder_name):\n",
    "    try:\n",
    "        if item.owner == gis.users.me.username:\n",
    "            item.move(folder_name)\n",
    "            print(f\"Moved item '{item.title}' (ID: {item.itemid}) to folder '{folder_name}'.\")\n",
    "    except Exception as e:\n",
    "        print(f\"Error moving item '{item.title}' (ID: {item.itemid}): {e}\")\n",
    "\n",
    "def move_items_to_folder(button):\n",
    "    with output8:\n",
    "        output8.clear_output()\n",
    "        folder_name = context[\"folder_name\"]\n",
    "        gis = context[\"gis\"]\n",
    "        print(f\"Moving items to folder '{folder_name}'...\")\n",
    "        for story_item in context[\"published_storymap_items\"]:\n",
    "            if story_item:\n",
    "                move_item_to_folder(gis, story_item, folder_name)\n",
    "        try:\n",
    "            if context[\"collection_id\"]:\n",
    "                collection_item = gis.content.get(context[\"collection_id\"])\n",
    "                move_item_to_folder(gis, collection_item, folder_name)\n",
    "                print(f\"Moved collection '{context['collection_title']}' to folder '{folder_name}'.\")\n",
    "            else:\n",
    "                print(f\"Could not find the collection item '{context['collection_title']}' to move.\")\n",
    "        except Exception as e:\n",
    "            print(f\"Error moving collection item: {e}\")\n",
    "        print(\"\\nStep #8 complete. Conversion complete!\")\n",
    "\n",
    "user_button8.on_click(move_items_to_folder)\n",
    "display(user_button8)\n",
    "display(output8)"
   ]
  }
 ],
 "metadata": {
  "kernelspec": {
   "display_name": "arcgis-full",
   "language": "python",
   "name": "python3"
  },
  "language_info": {
   "codemirror_mode": {
    "name": "ipython",
    "version": 3
   },
   "file_extension": ".py",
   "mimetype": "text/x-python",
   "name": "python",
   "nbconvert_exporter": "python",
   "pygments_lexer": "ipython3",
   "version": "3.12.11"
  }
 },
 "nbformat": 4,
 "nbformat_minor": 5
}
