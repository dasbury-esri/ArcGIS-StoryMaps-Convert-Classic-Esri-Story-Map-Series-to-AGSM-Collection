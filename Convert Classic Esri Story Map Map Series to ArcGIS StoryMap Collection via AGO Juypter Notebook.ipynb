{
 "cells": [
  {
   "cell_type": "markdown",
   "metadata": {},
   "source": [
    "## Convert Classic Esri Story Map Series"
   ]
  },
  {
   "cell_type": "markdown",
   "metadata": {},
   "source": [
    "**Welcome!**  \n",
    "This notebook will guide you through converting a Classic Esri Story Map Series to an ArcGIS StoryMap Collection.\n",
    "\n",
    "**How to run this notebook**  \n",
    " - Click on the text \"Setup and authenticate\" below. \n",
    " - There are two types of cells, Markdown (formatted notes) and Code.\n",
    " - An indicator -- typically a vertical blue line -- should highlight that you have selected the \"Setup and authenticate\" Markdown cell. \n",
    " - Once selected, click the \"Play\" button in the toolbar above to run the cell and advance to the next Code cell.\n",
    " - Click the \"Play\" button a second time to run the code cell.\n",
    " - After several seconds a \"Setup Notebook\" button should appear. Click the button to begin setup and authentication.\n",
    " - After each cell completes, click the text within the following Markdown cell.\n",
    " - Click the \"Play\" button to advance to the Code cell, then click the \"Play\" button a second time to make a button appear.\n",
    " - Click the button to run the code in the cell. \n",
    "\n",
    " **Notes**  \n",
    " - Some code cells may take a while to execute. You can monitor the status by viewing the small circle in the top right of the page.\n",
    " - If you click on a code cell it will expand showing you the behind-the-scenes Python code. \n",
    " - For a cleaner interface select View > Collapse All Code in the menu bar above to hide the code .\n",
    " - If at any point you get stuck and want to start over, just click Kernel > Restart Kernel and Clear Outputs of All Cells... in the menu bar "
   ]
  },
  {
   "cell_type": "markdown",
   "metadata": {},
   "source": [
    "**tldr;**"
   ]
  },
  {
   "cell_type": "code",
   "execution_count": null,
   "metadata": {
    "jupyter": {
     "source_hidden": true
    }
   },
   "outputs": [],
   "source": [
    "# Run this cell to display Notebook details\n",
    "from IPython.display import display, Markdown\n",
    "\n",
    "# Display details of what this notebook does\n",
    "tldr_md = \"\"\"\n",
    "**What this notebook does**  \n",
    "- Fetch JSON from an ArcGIS Online hosted Classic Esri Story Map Series App \n",
    "- Convert each tab/bullet/accordion into its own ArcGIS StoryMap with the cover supressed\n",
    "- Uses the BeautifulSoup library to parse description.html from the side panel text and convert to StoryMap objects\n",
    "- Identifies the main stage media type and converts each to the corresponding StoryMap object \n",
    "- Once converted, each ArcGIS StoryMap will need to be opened in a browser tab in order to complete the Story Checker \n",
    "- Once all are published, an ArcGIS StoryMap Collection is created that contains the converted app to replicate the classic app look and feel\n",
    "- Note: Any entries that were hidden in the classic app will be published and will be visible by default. If it is desired that they not appear they can be removed from the Collection after publishing \n",
    "- Also, as there is no AGSM Collection equivalent to the accordion layout, these layouts will be converted to the Tabbed format.\n",
    "\"\"\"\n",
    "display(Markdown(tldr_md))"
   ]
  },
  {
   "cell_type": "markdown",
   "metadata": {},
   "source": [
    "TO DO - create conversion tool for classic swipe (second tab in Katrina story)"
   ]
  },
  {
   "cell_type": "markdown",
   "metadata": {},
   "source": [
    "## 1. Setup and authenticate"
   ]
  },
  {
   "cell_type": "code",
   "execution_count": null,
   "metadata": {
    "jupyter": {
     "source_hidden": true
    }
   },
   "outputs": [],
   "source": [
    "# In the toolbar above, select View > Collapse All Code to hide the code.\n",
    "print(\"Initializing...\")\n",
    "# Cell 1. Import packages, config, AGO authentication and helper functions\n",
    "import sys, json\n",
    "# Set the path to access the helper functions\n",
    "sys.path.append('/arcgis/home')\n",
    "\n",
    "from storymap_series_conversion_utils import (\n",
    "    detect_environment,\n",
    "    authenticate_gis,\n",
    "    initialize_ui,\n",
    "    fetch_story_data_btn,\n",
    "    extract_and_display_settings_btn,\n",
    "    process_entries_btn,\n",
    "    create_storymaps_btn,\n",
    "    create_collection_btn,\n",
    "    check_folder_btn,\n",
    "    create_folder_btn,\n",
    "    move_items_to_folder_btn,\n",
    ")\n",
    "import arcgis\n",
    "import pandas as pd\n",
    "from functools import partial\n",
    "import ipywidgets as widgets\n",
    "import warnings\n",
    "from bs4 import MarkupResemblesLocatorWarning\n",
    "\n",
    "# Suppress the BeautifulSoup warning when ArcGIS Notebooks thinks HTML looks like a locator/filename\n",
    "warnings.filterwarnings(\"ignore\", category=MarkupResemblesLocatorWarning)\n",
    "\n",
    "# Set Pandas dataframe display options\n",
    "pd.set_option('display.max_colwidth', None)\n",
    "pd.set_option('display.max_columns',1000)\n",
    "\n",
    "# Define a context dictionary to manage state explicity\n",
    "context = {\n",
    "    \"gis\": None,\n",
    "    \"classic_id\": None,\n",
    "    \"classic_item\": None,\n",
    "    \"classic_item_data\": None,\n",
    "    \"classic_story_title\": None,\n",
    "    \"classic_story_subtitle\": None,\n",
    "    \"classic_story_type\": None,\n",
    "    \"classic_story_panel_position\": None,\n",
    "    \"classic_story_theme\": None,\n",
    "    \"new_theme\": None,\n",
    "    \"default_thumbnail_path\": \"\",\n",
    "    \"entries\": [],\n",
    "    \"entry_titles\": [],\n",
    "    \"html_elements\": [],\n",
    "    \"content_nodes\": [],\n",
    "    \"main_stage_contents\": [],\n",
    "    \"invalid_webmaps\": [],\n",
    "    \"published_storymap_items\": [],\n",
    "    \"thumbnail_paths\": [],\n",
    "    \"collection_title\": None,\n",
    "    \"collection_url\": None,\n",
    "    \"collection_id\": None,\n",
    "    \"folder_name\": None,\n",
    "}\n",
    "# Detect the current environment\n",
    "current_env, env_string = detect_environment()\n",
    "print(f\"Currently running in {env_string}\")\n",
    "\n",
    "output1 = initialize_ui(\"output\")\n",
    "def setup_notebook_btn(button):\n",
    "    with output1:\n",
    "        print(\"Setting up the notebook environment...\")\n",
    "        # Print Python and ArcGIS for Python versions\n",
    "        # since things can change between versions\n",
    "        print(f\"\\tPython version: \",sys.version)\n",
    "        print(f\"\\tArcGIS for Python API / StoryMap module version: \",arcgis.__version__)\n",
    "        # Connect to ArcGIS Online\n",
    "        # Define the GIS\n",
    "        authenticate_gis(context=context)\n",
    "        \n",
    "# Set default thumbnail path\n",
    "default_thumbnail_path = \"https://cdn-a.arcgis.com/cdn/1BE082D/js/arcgis-app-components/arcgis-app/assets/arcgis-item-thumbnail/storymap.png\"\n",
    "context['default_thumbnail_path'] = default_thumbnail_path\n",
    "\n",
    "# Collect map extents for troubleshooting thumbnail generation\n",
    "# map_extents = []\n",
    "# webmap_jsons = []\n",
    "\n",
    "# Create widgets\n",
    "btn1 = initialize_ui(\"button\", description=\"Setup Notebook\", width=\"200px\")\n",
    "output1 = initialize_ui(\"output\")\n",
    "# Display widgets\n",
    "display(btn1)\n",
    "btn1.on_click(setup_notebook_btn)\n",
    "display(output1)"
   ]
  },
  {
   "cell_type": "markdown",
   "metadata": {},
   "source": [
    "## 2. Fetch the Data from the Classic Story Map\n",
    "This cell fetches the classic StoryMap item and parses its JSON data."
   ]
  },
  {
   "cell_type": "code",
   "execution_count": null,
   "metadata": {
    "jupyter": {
     "source_hidden": true
    }
   },
   "outputs": [],
   "source": [
    "# Cell 2: Input the classic StoryMap ID\n",
    "output2 = initialize_ui(\"output\") \n",
    "\n",
    "txt2 = initialize_ui(\"label\", value=\"Paste 32-digit Classic Esri Story Map id -->\", width=\"300px\")\n",
    "input2 = initialize_ui(\"text\", value=\"\", description=\"Item ID:\", width=\"400px\") \n",
    "# Test values: d1799fc84e244c2f9af0e24ced4c95e1 (Bulleted) ; 597d573e58514bdbbeb53ba2179d2359 (Tabbed)\n",
    "hbox2 = initialize_ui(\"hbox\", elements=[txt2, input2]) # TO DO add error checking logic and warning if item is missing or input is incorrect\n",
    "btn2 = initialize_ui(\"button\", description=\"Fetch Story Data\", width=\"200px\")\n",
    "display(widgets.VBox([hbox2, btn2, output2]))\n",
    "btn2.on_click(partial(fetch_story_data_btn, output2=output2, input2=input2, context=context))"
   ]
  },
  {
   "cell_type": "markdown",
   "metadata": {},
   "source": [
    "## 3. Parse Settings, Theme and Data\n",
    "\n",
    "This cell extracts the theme, title, subtitle, and entries from the classic StoryMap data."
   ]
  },
  {
   "cell_type": "code",
   "execution_count": null,
   "metadata": {
    "jupyter": {
     "source_hidden": true
    }
   },
   "outputs": [],
   "source": [
    "# Cell 3: Extract settings and entries\n",
    "output3 = initialize_ui(\"output\") \n",
    "        \n",
    "btn3 = initialize_ui(\"button\", description=\"Extract Settings\")\n",
    "display(widgets.VBox([btn3, output3]))\n",
    "btn3.on_click(partial(extract_and_display_settings_btn, output3=output3, context=context))"
   ]
  },
  {
   "cell_type": "markdown",
   "metadata": {},
   "source": [
    "## 4. Loop Through and Process Each Entry's Data"
   ]
  },
  {
   "cell_type": "code",
   "execution_count": null,
   "metadata": {
    "jupyter": {
     "source_hidden": true
    }
   },
   "outputs": [],
   "source": [
    "# Cell 4: Loop through entries to process media, content and thumbnails\n",
    "output4 = initialize_ui(\"output\")\n",
    "\n",
    "btn4 = initialize_ui(\"button\", description=\"Process Entries\")\n",
    "display(widgets.VBox([btn4, output4]))\n",
    "btn4.on_click(partial(process_entries_btn, output4=output4, context=context))"
   ]
  },
  {
   "cell_type": "markdown",
   "metadata": {},
   "source": [
    "## 5. Build an ArcGIS StoryMap with a Suppressed Cover Page for Each Entry"
   ]
  },
  {
   "cell_type": "code",
   "execution_count": null,
   "metadata": {
    "jupyter": {
     "source_hidden": true
    }
   },
   "outputs": [],
   "source": [
    "# Cell 5: Loop through each entry and create a StoryMap for each\n",
    "output5 = initialize_ui(\"output\")\n",
    "\n",
    "btn5= initialize_ui(\"button\", description=\"Create ArcGIS StoryMaps from each entry\", width='300px', height='40px')\n",
    "display(widgets.VBox([btn5, output5]))\n",
    "btn5.on_click(partial(create_storymaps_btn, output5=output5, context=context))"
   ]
  },
  {
   "cell_type": "markdown",
   "metadata": {},
   "source": [
    "## 6. Build a Collection from the Published StoryMaps"
   ]
  },
  {
   "cell_type": "code",
   "execution_count": null,
   "metadata": {
    "jupyter": {
     "source_hidden": true
    }
   },
   "outputs": [],
   "source": [
    "# Cell 6. Run the function to create the Collection\n",
    "output6 = initialize_ui(\"output\")\n",
    "\n",
    "btn6 = initialize_ui(\"button\", description=\"Create Collection\", width='150px', height='40px')\n",
    "display(widgets.VBox([btn6, output6]))\n",
    "btn6.on_click(partial(create_collection_btn, output6=output6, context=context))"
   ]
  },
  {
   "cell_type": "markdown",
   "metadata": {},
   "source": [
    "## 7. Create a folder in My Content to store the results (optional, but recommended) "
   ]
  },
  {
   "cell_type": "code",
   "execution_count": null,
   "metadata": {
    "jupyter": {
     "source_hidden": true
    }
   },
   "outputs": [],
   "source": [
    "# Cell 7: Create a folder to store the results\n",
    "output7 = initialize_ui(\"output\")\n",
    "input7 = initialize_ui(\"text\", value=\"\", description=\"\", width='800px')\n",
    "btn7 = initialize_ui(\"button\", description=\"Check for folder\")\n",
    "btn7_1 = initialize_ui(\"button\", description=\"Create folder\")\n",
    "\n",
    "display(widgets.VBox([btn7, output7]))\n",
    "\n",
    "btn7.on_click(partial(check_folder_btn, input7=input7, output7=output7, btn7_1=btn7_1, context=context))\n",
    "btn7_1.on_click(partial(create_folder_btn, input7=input7, output7=output7, context=context))"
   ]
  },
  {
   "cell_type": "markdown",
   "metadata": {},
   "source": [
    "## 8. Move content into folder for easier management"
   ]
  },
  {
   "cell_type": "code",
   "execution_count": null,
   "metadata": {
    "jupyter": {
     "source_hidden": true
    }
   },
   "outputs": [],
   "source": [
    "# Cell 8. Move all items to the newly created folder\n",
    "output8 = initialize_ui(\"output\")\n",
    "\n",
    "btn8 = initialize_ui(\"button\", description=\"Move all items to folder\", width='200px', height='40px')\n",
    "display(widgets.VBox([btn8, output8]))\n",
    "btn8.on_click(partial(move_items_to_folder_btn, output8=output8, context=context))"
   ]
  }
 ],
 "metadata": {
  "esriNotebookRuntime": {
   "notebookRuntimeName": "ArcGIS Notebook Python 3 Standard",
   "notebookRuntimeVersion": "12.0"
  },
  "kernelspec": {
   "display_name": "arcgis-full",
   "language": "python",
   "name": "python3"
  },
  "language_info": {
   "codemirror_mode": {
    "name": "ipython",
    "version": 3
   },
   "file_extension": ".py",
   "mimetype": "text/x-python",
   "name": "python",
   "nbconvert_exporter": "python",
   "pygments_lexer": "ipython3",
   "version": "3.12.11"
  }
 },
 "nbformat": 4,
 "nbformat_minor": 4
}
