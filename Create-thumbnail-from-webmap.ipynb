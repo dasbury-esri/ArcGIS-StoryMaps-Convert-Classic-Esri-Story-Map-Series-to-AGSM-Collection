{
 "cells": [
  {
   "cell_type": "code",
   "execution_count": 1,
   "id": "385e1d59",
   "metadata": {},
   "outputs": [],
   "source": [
    "import requests\n",
    "import json\n",
    "import arcgis\n",
    "from arcgis.gis import GIS, Item\n",
    "import os\n",
    "from PIL import Image as PILImage\n",
    "import tempfile\n",
    "from io import BytesIO\n",
    "from copy import deepcopy"
   ]
  },
  {
   "cell_type": "code",
   "execution_count": 2,
   "id": "a29b106d",
   "metadata": {},
   "outputs": [
    {
     "name": "stdout",
     "output_type": "stream",
     "text": [
      "Running ArcGIS API for Python version: 2.4.1.3\n",
      "Successfully logged in as: dasbury_storymaps (role: org_admin userType: GISProfessionalAdvUT)\n"
     ]
    }
   ],
   "source": [
    "# Print the version of the arcgis module\n",
    "print(f\"Running ArcGIS API for Python version: {arcgis.__version__}\")\n",
    "agoNotebook = False\n",
    "# Define the GIS\n",
    "if agoNotebook == False:\n",
    "    try:\n",
    "        import keyring\n",
    "        service_name = \"system\" # Use the default local credential store\n",
    "        success = False # Set initial state\n",
    "\n",
    "        # Ask for the username\n",
    "        while success == False:\n",
    "            username_for_keyring = input(\"Enter your ArcGIS Online username:\") # If you are using VS Code, the text input dialog box appears at the top of the window\n",
    "            # Get the credential object\n",
    "            credential = keyring.get_credential(service_name, username_for_keyring)\n",
    "            # Check if the username is in the credential store\n",
    "            if credential is None:\n",
    "                print(f\"'{username_for_keyring}' is not in the local system's credential store. Try another username.\")\n",
    "            # Retrieve the password, login and set the GIS portal\n",
    "            else:\n",
    "                password_from_keyring = keyring.get_password(\"system\", username_for_keyring)\n",
    "                portal_url = 'https://www.arcgis.com'  \n",
    "                gis = GIS(portal_url, username=username_for_keyring, password=password_from_keyring)\n",
    "                success = True\n",
    "                # Print a success message with username and user's organization role\n",
    "                print(f\"Successfully logged in as: {gis.properties.user.username} (role: {gis.properties.user.role} userType: {gis.properties.user.userLicenseTypeId})\")\n",
    "    except ImportError:\n",
    "        print(\"The 'keyring' module is not installed. Please install it using 'pip install keyring'.\")\n",
    "        print(\"Before re-running this cell, open a command line window on your machine and run the command:\")\n",
    "        print(\"# python -m keyring set system <your_ago_username>\")\n",
    "        print(\"If using Windows Powershell, use:\")\n",
    "        print(\"# ./python -m keyring set system <your_ago_username>\")\n",
    "        print(\"You will be prompted to enter your password\")\n",
    "        print(\"When you hit Enter/Return the password will be saved to your local credential store.\")\n",
    "else:\n",
    "    gis = GIS(\"home\")"
   ]
  },
  {
   "cell_type": "code",
   "execution_count": 3,
   "id": "a69d1c09",
   "metadata": {},
   "outputs": [],
   "source": [
    "\n",
    "\n",
    "def remove_failed_service(webmap_json, failed_url):\n",
    "    # Remove from operationalLayers\n",
    "    if 'operationalLayers' in webmap_json:\n",
    "        webmap_json['operationalLayers'] = [\n",
    "            lyr for lyr in webmap_json['operationalLayers']\n",
    "            if not lyr.get('url', '').startswith(failed_url)\n",
    "        ]\n",
    "    # Remove from baseMapLayers\n",
    "    if 'baseMap' in webmap_json and 'baseMapLayers' in webmap_json['baseMap']:\n",
    "        webmap_json['baseMap']['baseMapLayers'] = [\n",
    "            lyr for lyr in webmap_json['baseMap']['baseMapLayers']\n",
    "            if not lyr.get('url', '').startswith(failed_url)\n",
    "        ]\n",
    "    return webmap_json\n",
    "\n",
    "# For downloads, use in-memory BytesIO where possible\n",
    "def create_webmap_thumbnail(webmap_item, thumbnail_path, default_thumbnail_path, gis=None):\n",
    "    try:\n",
    "        url = \"https://utility.arcgisonline.com/arcgis/rest/services/Utilities/PrintingTools/GPServer/Export%20Web%20Map%20Task/execute\"\n",
    "        # Get your web map JSON (from an Item)\n",
    "        webmap_json = webmap_item.get_data()\n",
    "        bookmarks = webmap_json.get('bookmarks', [])\n",
    "        if bookmarks:\n",
    "            for bm in bookmarks:\n",
    "                bm_name = bm.get('name')\n",
    "                bm_extent = bm.get('extent')\n",
    "                if not bm_extent:\n",
    "                    continue\n",
    "\n",
    "            # Deep copy the web map JSON so each print uses a fresh copy\n",
    "            webmap_json_bm = deepcopy(webmap_json)\n",
    "            webmap_json_bm = remove_failed_service(webmap_json_bm, failed_service_url)\n",
    "            # Set the extent for this bookmark\n",
    "            if 'mapOptions' not in webmap_json_bm:\n",
    "                webmap_json_bm['mapOptions'] = {}\n",
    "            webmap_json_bm['mapOptions']['extent'] = bm_extent\n",
    "\n",
    "            if 'exportOptions' not in webmap_json_bm:\n",
    "                webmap_json_bm['exportOptions'] = {\n",
    "                    \"outputSize\": [800, 600],  # width, height in pixels\n",
    "                    \"dpi\": 96\n",
    "                }\n",
    "\n",
    "            params = {\n",
    "                \"f\": \"json\",\n",
    "                \"Web_Map_as_JSON\": json.dumps(webmap_json_bm),\n",
    "                \"Format\": \"PNG32\",\n",
    "                \"Layout_Template\": \"MAP_ONLY\"\n",
    "            }\n",
    "\n",
    "            response = requests.post(url, data=params)\n",
    "            result = response.json()\n",
    "            if 'results' in result:\n",
    "                image_url = result['results'][0]['value']['url']\n",
    "                #print(f\"Bookmark '{bm_name}' exported image URL: {image_url}\")\n",
    "            if 'error' in result:\n",
    "                failed_layer = result['error']['details'][0]\n",
    "                failed_service_url = failed_layer.split(' at ')[-1]\n",
    "                removed_layer_json = remove_failed_service(webmap_json_bm, failed_service_url)\n",
    "                webmap_json_bm = removed_layer_json\n",
    "\n",
    "\n",
    "            else:\n",
    "                print(f\"Error exporting bookmark '{bm_name}': {result}\")\n",
    "            return image_url\n",
    "    except Exception:\n",
    "        print(\"Thumbnail download failed; using default.\")\n",
    "        return default_thumbnail_path"
   ]
  },
  {
   "cell_type": "code",
   "execution_count": 6,
   "id": "6b084520",
   "metadata": {},
   "outputs": [
    {
     "name": "stdout",
     "output_type": "stream",
     "text": [
      "Thumbnail download failed; using default.\n",
      "Image saved as thumbnail.png\n"
     ]
    }
   ],
   "source": [
    "default_thumbnail_path = \"https://cdn-a.arcgis.com/cdn/1BE082D/js/arcgis-app-components/arcgis-app/assets/arcgis-item-thumbnail/storymap.png\"\n",
    "item_id = \"0bb11c0469f042b3afaf8b0d76572822\"\n",
    "webmap_item = gis.content.get(item_id)\n",
    "thumbnail_paths = []\n",
    "image_url = create_webmap_thumbnail(webmap_item, default_thumbnail_path, default_thumbnail_path, gis)\n",
    "thumbnail_paths.append(image_url)\n",
    "response = requests.get(image_url)\n",
    "if response.status_code == 200:\n",
    "    with open(\"thumbnail.png\", \"wb\") as f:\n",
    "        f.write(response.content)\n",
    "    print(\"Image saved as thumbnail.png\")\n",
    "else:\n",
    "    print(f\"Failed to download image: {response.status_code}\")"
   ]
  },
  {
   "cell_type": "code",
   "execution_count": null,
   "id": "7f6f3274",
   "metadata": {},
   "outputs": [],
   "source": []
  }
 ],
 "metadata": {
  "kernelspec": {
   "display_name": "arcgis-full",
   "language": "python",
   "name": "python3"
  },
  "language_info": {
   "codemirror_mode": {
    "name": "ipython",
    "version": 3
   },
   "file_extension": ".py",
   "mimetype": "text/x-python",
   "name": "python",
   "nbconvert_exporter": "python",
   "pygments_lexer": "ipython3",
   "version": "3.12.11"
  }
 },
 "nbformat": 4,
 "nbformat_minor": 5
}
